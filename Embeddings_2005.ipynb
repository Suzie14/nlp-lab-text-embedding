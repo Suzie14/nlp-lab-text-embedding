{
 "cells": [
  {
   "cell_type": "markdown",
   "metadata": {},
   "source": [
    "#  NLP-lab :  Word embeddings\n",
    "\n",
    "In this series of exercises, we will explore three word embeddings:\n",
    "\n",
    "* [Collobert & Weston](http://www.jmlr.org/papers/volume12/collobert11a/collobert11a.pdf) https://ronan.collobert.com/senna/\n",
    "* [Word2Vec](https://arxiv.org/abs/1301.3781)\n",
    "* [BERT](https://huggingface.co/bert-base-uncased) \n",
    "\n",
    "\n",
    "In the code already provided, add your code to the place indicated by `YOUR CODE HERE`.\n",
    "\n",
    "**Important** : do NOT commit the data and embedding files in your repository git : it is a waste of resources and it takes more time to clone.\n",
    "> Use https://docs.github.com/en/get-started/getting-started-with-git/ignoring-files\n"
   ]
  },
  {
   "cell_type": "code",
   "execution_count": 2,
   "metadata": {},
   "outputs": [],
   "source": [
    "# basic imports\n",
    "import os\n",
    "import matplotlib.pyplot as plt\n",
    "# display matplotlib graphics in notebook\n",
    "%matplotlib inline \n",
    "import seaborn as sns\n",
    "\n",
    "# disable warnings for libraries\n",
    "import warnings\n",
    "warnings.filterwarnings(\"ignore\")\n",
    "\n",
    "# configure logger\n",
    "import logging\n",
    "logging.basicConfig(format='%(asctime)s %(levelname)s:%(message)s', level=logging.INFO, datefmt='%I:%M:%S')\n",
    "logger = logging.getLogger(__name__)\n"
   ]
  },
  {
   "cell_type": "markdown",
   "metadata": {},
   "source": [
    "###  Embeddings exploration with Collobert's embeddings\n",
    "\n",
    "Upload the files containing the embeddings to `data`:\n",
    "* Collobert (size 50): [collobert_embeddings.txt.zip](https://storage.teklia.com/shared/deepnlp-labs/collobert_embeddings.txt.zip) which contains the embedding vectors and [collobert_words.lst](https://storage.teklia.com/shared/deepnlp-labs/collobert_words.lst) which contains the associated words;\n",
    "\n",
    "You need to unzip the files to load them.\n",
    "\n",
    "Feel free to open the files to see what they contain (it's sometimes surprising).\n",
    "\n",
    "#### Question: \n",
    ">* Add the files to your .gitignore\n",
    ">* Give the size in Mb of the embeddings files before unzipping. 25 MB\n",
    ">* By exploring the content of the embedding files, give the number of words for which these files provide embeddings. 130 000\n",
    "\n"
   ]
  },
  {
   "cell_type": "markdown",
   "metadata": {},
   "source": [
    "### List of closest words\n",
    "\n",
    "The aim of this exercise is to list the closest words to a given word for the Collobert embedding. First, we'll load the vectors of the Collobert embedding into a numpy array and the associated words into a python list. Then we'll use the [scipy KDTree](https://docs.scipy.org/doc/scipy/reference/generated/scipy.spatial.KDTree.html) data structure to quickly search for the vectors closest to a series of words.\n",
    "\n",
    "\n",
    "#### Question: \n",
    ">* load embedding vectors from the file `data/collobert_embeddings.txt` using the numpy function [genfromtxt](https://numpy.org/doc/stable/reference/generated/numpy.genfromtxt.html)\n",
    ">* load the words associated with the vectors from the `data/collobert_words.lst` file into a python list (using `open()` and `readlines()`)\n",
    ">* check that the sizes are correct\n"
   ]
  },
  {
   "cell_type": "code",
   "execution_count": 3,
   "metadata": {},
   "outputs": [
    {
     "name": "stderr",
     "output_type": "stream",
     "text": [
      "01:30:19 INFO:Loading embedding vectors...\n",
      "01:30:22 INFO:Loaded vectors with shape: (130000, 50)\n",
      "01:30:22 INFO:Loading words...\n",
      "01:30:22 INFO:Loaded 130000 words\n",
      "01:30:22 INFO:Verification complete - sizes match!\n"
     ]
    },
    {
     "name": "stdout",
     "output_type": "stream",
     "text": [
      "\n",
      "Dataset information:\n",
      "Number of words: 130000\n",
      "Embedding dimension: 50\n",
      "\n",
      "First few words: ['!', '!_____!____________!_____!_____!_______!_____!_______!______', '\"', '#', '####']\n",
      "Shape of first vector: (50,)\n",
      "First vector: [-1.03682   1.77856  -0.693547  1.5948    1.5799  ]...\n"
     ]
    }
   ],
   "source": [
    "import numpy as np\n",
    "def load_embeddings():\n",
    "    # Load embedding vectors\n",
    "    logger.info(\"Loading embedding vectors...\")\n",
    "    vectors = np.genfromtxt('data/collobert_embeddings.txt')\n",
    "    logger.info(f\"Loaded vectors with shape: {vectors.shape}\")\n",
    "    \n",
    "    # Load associated words\n",
    "    logger.info(\"Loading words...\")\n",
    "    with open('data/collobert_words.lst', 'r', encoding='utf-8') as f:\n",
    "        words = [line.strip() for line in f.readlines()]\n",
    "    logger.info(f\"Loaded {len(words)} words\")\n",
    "    \n",
    "    # Verify sizes match\n",
    "    if len(words) != vectors.shape[0]:\n",
    "        raise ValueError(f\"Mismatch between number of words ({len(words)}) and vectors ({vectors.shape[0]})\")\n",
    "    \n",
    "    logger.info(\"Verification complete - sizes match!\")\n",
    "    \n",
    "    return vectors, words\n",
    "\n",
    "# Load the data\n",
    "vectors, words = load_embeddings()\n",
    "\n",
    "# Display some basic information\n",
    "print(\"\\nDataset information:\")\n",
    "print(f\"Number of words: {len(words)}\")\n",
    "print(f\"Embedding dimension: {vectors.shape[1]}\")\n",
    "print(f\"\\nFirst few words: {words[:5]}\")\n",
    "print(f\"Shape of first vector: {vectors[0].shape}\")\n",
    "print(f\"First vector: {vectors[0][:5]}...\")  # Show just first 5 dimensions"
   ]
  },
  {
   "cell_type": "markdown",
   "metadata": {},
   "source": [
    "KD trees are a very efficient data structure for storing large sets of points in a multi-dimensional space and performing very efficient nearest-neighbour searches. \n",
    "\n",
    "#### Question \n",
    "> * Initialise the [KDTree](https://docs.scipy.org/doc/scipy/reference/generated/scipy.spatial.KDTree.html) structure with Collobert's embedding vectors.\n",
    "> * Using the [tree.query](https://docs.scipy.org/doc/scipy/reference/generated/scipy.spatial.KDTree.query.html#scipy.spatial.KDTree.query) function, display the 5 nearest words for the following words: ‘mother’, ‘computer’, ‘dentist’, ‘war’, ‘president’, ‘secretary’, ‘nurse’.  *Hint: you can use the function `collobert_words.index(w)` to obtain the index of a word in the list of words*.\n",
    "> * Create a `words_plus_neighbors` list containing the words and all their neighbours (for the next question)"
   ]
  },
  {
   "cell_type": "code",
   "execution_count": 4,
   "metadata": {},
   "outputs": [
    {
     "name": "stderr",
     "output_type": "stream",
     "text": [
      "01:30:25 INFO:Building KD-tree...\n"
     ]
    },
    {
     "name": "stdout",
     "output_type": "stream",
     "text": [
      "\n",
      "Nearest neighbors for each word:\n",
      "--------------------------------------------------\n",
      "\n",
      "Nearest neighbors for 'mother':\n",
      "1. daughter        (distance: 3.5814)\n",
      "2. wife            (distance: 3.6175)\n",
      "3. father          (distance: 3.6948)\n",
      "4. husband         (distance: 4.1591)\n",
      "5. son             (distance: 4.6471)\n",
      "\n",
      "Nearest neighbors for 'computer':\n",
      "1. laptop          (distance: 5.2361)\n",
      "2. multimedia      (distance: 5.2648)\n",
      "3. desktop         (distance: 5.3675)\n",
      "4. software        (distance: 5.5110)\n",
      "5. wiki            (distance: 5.5612)\n",
      "\n",
      "Nearest neighbors for 'dentist':\n",
      "1. pharmacist      (distance: 4.1289)\n",
      "2. midwife         (distance: 4.1392)\n",
      "3. physician       (distance: 4.1540)\n",
      "4. housekeeper     (distance: 4.2629)\n",
      "5. veterinarian    (distance: 4.3030)\n",
      "\n",
      "Nearest neighbors for 'war':\n",
      "1. revolution      (distance: 5.5485)\n",
      "2. death           (distance: 5.9441)\n",
      "3. court           (distance: 5.9500)\n",
      "4. independence    (distance: 6.0304)\n",
      "5. history         (distance: 6.1298)\n",
      "\n",
      "Nearest neighbors for 'president':\n",
      "1. governor        (distance: 3.9116)\n",
      "2. chairman        (distance: 4.4470)\n",
      "3. mayor           (distance: 5.0174)\n",
      "4. secretary       (distance: 5.1177)\n",
      "5. senator         (distance: 5.1248)\n",
      "\n",
      "Nearest neighbors for 'secretary':\n",
      "1. minister        (distance: 3.8140)\n",
      "2. treasurer       (distance: 4.3014)\n",
      "3. chairman        (distance: 4.3486)\n",
      "4. commissioner    (distance: 4.6654)\n",
      "5. undersecretary  (distance: 4.8410)\n",
      "\n",
      "Nearest neighbors for 'nurse':\n",
      "1. physician       (distance: 4.8069)\n",
      "2. veterinarian    (distance: 4.8455)\n",
      "3. dentist         (distance: 4.8760)\n",
      "4. surgeon         (distance: 4.9567)\n",
      "5. midwife         (distance: 5.0427)\n",
      "\n",
      "Summary:\n",
      "Total unique words including neighbors: 36\n"
     ]
    }
   ],
   "source": [
    "from scipy import spatial\n",
    "\n",
    "def find_nearest_neighbors(vectors, words, target_words, k=5):\n",
    "    # Initialize KD-tree with embedding vectors\n",
    "    logger.info(\"Building KD-tree...\")\n",
    "    tree = spatial.KDTree(vectors)\n",
    "    \n",
    "    # Container for words and their neighbors\n",
    "    words_plus_neighbors = set()\n",
    "    \n",
    "    print(\"\\nNearest neighbors for each word:\")\n",
    "    print(\"-\" * 50)\n",
    "    \n",
    "    for word in target_words:\n",
    "        try:\n",
    "            # Get word index\n",
    "            word_idx = words.index(word)\n",
    "            \n",
    "            # Find k+1 nearest neighbors (including the word itself)\n",
    "            distances, indices = tree.query(vectors[word_idx], k=k+1)\n",
    "            \n",
    "            # Print results\n",
    "            print(f\"\\nNearest neighbors for '{word}':\")\n",
    "            for i, (dist, idx) in enumerate(zip(distances[1:], indices[1:]), 1):\n",
    "                neighbor = words[idx]\n",
    "                print(f\"{i}. {neighbor:<15} (distance: {dist:.4f})\")\n",
    "            \n",
    "            # Add word and neighbors to set\n",
    "            words_plus_neighbors.add(word)\n",
    "            words_plus_neighbors.update(words[idx] for idx in indices[1:])\n",
    "            \n",
    "        except ValueError:\n",
    "            logger.error(f\"Word '{word}' not found in vocabulary\")\n",
    "    \n",
    "    return tree, list(words_plus_neighbors)\n",
    "\n",
    "# List of target words\n",
    "target_words = ['mother', 'computer', 'dentist', 'war', \n",
    "                'president', 'secretary', 'nurse']\n",
    "\n",
    "# Find nearest neighbors\n",
    "tree, words_plus_neighbors = find_nearest_neighbors(vectors, words, target_words)\n",
    "\n",
    "print(\"\\nSummary:\")\n",
    "print(f\"Total unique words including neighbors: {len(words_plus_neighbors)}\")\n",
    "\n",
    " "
   ]
  },
  {
   "cell_type": "markdown",
   "metadata": {},
   "source": [
    "### Visualisation with T-SNE\n",
    "\n",
    "Embeddings are vectors with several hundred dimensions. It is therefore not possible to display them in their original space. However, it is possible to apply dimension reduction algorithms to display them in 2 or 3 dimensions. One of the dimension reduction algorithms allowing 2D visualisation is [tSNE](https://en.wikipedia.org/wiki/T-distributed_stochastic_neighbor_embedding). \n",
    "\n",
    "#### Question\n",
    "> * Create a `word_vectors` object of type `np.array` from a list containing all the embeddings of the words in the `words_plus_neighbors` list.\n",
    "> * Create a tSNE object from the `from sklearn.manifold import TSNE` library with the parameters `random_state=0`, `n_iter=2000` and `perplexity=15.0` for a 2-dimensional view.\n",
    "> * Calculate *T* the tSNE transformation of the `word_vectors` by applying function `.fit_transform(word_vectors)` to the tSNE object. This function estimates the parameters of the tSNE transformation and returns the reduced-dimension representation of the vectors used for estimation.\n",
    "> * Use the `scatterplot` function from [seaborn](https://seaborn.pydata.org/generated/seaborn.scatterplot.html) to represent points in 2 dimensions and add word labels using the `plt.annotate` function."
   ]
  },
  {
   "cell_type": "code",
   "execution_count": 5,
   "metadata": {},
   "outputs": [
    {
     "data": {
      "text/plain": [
       "['revolution',\n",
       " 'chairman',\n",
       " 'physician',\n",
       " 'secretary',\n",
       " 'multimedia',\n",
       " 'daughter',\n",
       " 'housekeeper',\n",
       " 'surgeon',\n",
       " 'mother',\n",
       " 'history',\n",
       " 'mayor',\n",
       " 'president',\n",
       " 'computer',\n",
       " 'husband',\n",
       " 'treasurer',\n",
       " 'software',\n",
       " 'war',\n",
       " 'father',\n",
       " 'wiki',\n",
       " 'commissioner',\n",
       " 'death',\n",
       " 'nurse',\n",
       " 'undersecretary',\n",
       " 'dentist',\n",
       " 'pharmacist',\n",
       " 'senator',\n",
       " 'desktop',\n",
       " 'veterinarian',\n",
       " 'son',\n",
       " 'minister',\n",
       " 'laptop',\n",
       " 'wife',\n",
       " 'independence',\n",
       " 'governor',\n",
       " 'midwife',\n",
       " 'court']"
      ]
     },
     "execution_count": 5,
     "metadata": {},
     "output_type": "execute_result"
    }
   ],
   "source": [
    "words_plus_neighbors"
   ]
  },
  {
   "cell_type": "code",
   "execution_count": 12,
   "metadata": {},
   "outputs": [
    {
     "data": {
      "image/png": "[encoded data removed]",
      "text/plain": [
       "<Figure size 1400x800 with 1 Axes>"
      ]
     },
     "metadata": {},
     "output_type": "display_data"
    }
   ],
   "source": [
    "from sklearn.manifold import TSNE\n",
    "# graphics\n",
    "import matplotlib.pyplot as plt\n",
    "# display matplotlib graphics in notebook\n",
    "%matplotlib inline \n",
    "import seaborn as sns\n",
    "\n",
    "# retrieve the word representation\n",
    "word_vectors = []\n",
    "for word in words_plus_neighbors:\n",
    "    if word in words:\n",
    "        idx = words.index(word)\n",
    "        word_vectors.append(vectors[idx])\n",
    "word_vectors = np.array(word_vectors)\n",
    "# create the tSNE transform\n",
    "tsne = TSNE(n_components=2, random_state=42)\n",
    "\n",
    "# fit and transform the word vectors, store in T\n",
    "T = tsne.fit_transform(word_vectors)\n",
    "\n",
    "# plot\n",
    "fig = plt.figure()\n",
    "fig.patch.set_facecolor('#f9f9f9')\n",
    "\n",
    "sns.set(rc={'figure.figsize':(14, 8)})\n",
    "sns.set(font_scale=1)\n",
    "\n",
    "sns.scatterplot(x=T[:, 0], y=T[:, 1])\n",
    "\n",
    "for label, x, y in zip(words_plus_neighbors, T[:, 0], T[:, 1]):\n",
    "    plt.annotate(label, xy=(x, y), xytext=(0, 0), textcoords='offset points')\n",
    "\n"
   ]
  },
  {
   "cell_type": "markdown",
   "metadata": {},
   "source": [
    "### Semantic arithmetic with Word2Vec\n",
    "\n",
    "One of the most original properties of Word2Vec embeddings is that the semantic relationships between vectors can be modelled by arithmetic operations. Given vectors representing the words `king`, `man` and `woman`, it is possible to compute the vector `v` as :  \n",
    "\n",
    "`v = vector(king)-vector(man)+vector(woman)`\n",
    "\n",
    "This operation corresponds to the following semantic relationship: *The king is to the man what the queen is to the woman*, which translates into the following arithmetic: *the concept of king, minus the concept of man plus the concept of woman gives the concept of queen*.\n",
    "\n",
    "In fact, if we look in the embedding for the word whose closest vector is `v`, we find `reine`.\n",
    "\n",
    "\n",
    "We will use a Word2Vec model pre-trained on the French Wac corpus.  This model has been trained on a corpus of 1 billion French words. \n",
    "\n",
    "This embedding is available in 2 formats:\n",
    "- a text format for easy exploration of the model :\n",
    "    - frWac_non_lem_no_postag_no_phrase_200_cbow_cut100.txt](https://storage.teklia.com/shared/deepnlp-labs/frWac_non_lem_no_postag_no_phrase_200_cbow_cut100.txt)\n",
    "- a binary format that can be loaded using the Gensim library: \n",
    "    - [enWac_non_lem_no_postag_no_phrase_200_cbow_cut100.bin](https://storage.teklia.com/shared/deepnlp-labs/frWac_non_lem_no_postag_no_phrase_200_cbow_cut100.bin)\n",
    "\n",
    "Download the text file onto your machine to analyse it.\n",
    "\n",
    "#### Question: \n",
    ">* Add the file to your .gitignore\n",
    ">* Give the size in Mb of the embedding files\n",
    ">* By exploring the contents of the embedding file in text format, give the number of words for which this model provides embeddings and the size of the embedding for each word.\n",
    "\n"
   ]
  },
  {
   "cell_type": "markdown",
   "metadata": {},
   "source": [
    "YOUR ANSWER HERE"
   ]
  },
  {
   "cell_type": "markdown",
   "metadata": {},
   "source": [
    "#### Word similarity\n",
    "\n",
    "We are now going to use the [Gensim] library (https://radimrehurek.com/gensim/) to load the Word2Vec model and use it. \n",
    "\n",
    "#### Question: \n",
    ">* Modify the following code to load the Word2Vec template file in binary format using [load_word2vec](https://radimrehurek.com/gensim/models/keyedvectors.html#how-to-obtain-word-vectors)\n",
    ">* Choose a couple of words and find the closest words according to the model using [most_similar](https://radimrehurek.com/gensim/models/keyedvectors.html#gensim.models.keyedvectors.KeyedVectors.most_similar)\n",
    ">* To guess the meaning of the words ‘yokohama’, ‘kanto’ and ‘shamisen’, look for their nearest neighbours. Explain the results.\n"
   ]
  },
  {
   "cell_type": "code",
   "execution_count": null,
   "metadata": {},
   "outputs": [],
   "source": [
    "from gensim.models import KeyedVectors\n",
    "\n",
    "## YOUR CODE HERE\n",
    "embedding_file =\"data/frWac_non_lem_no_postag_no_phrase_200_cbow_cut100.bin\"\n",
    "model = KeyedVectors.load_word2vec_format(embedding_file, binary=True, unicode_errors=\"ignore\")\n",
    "## YOUR CODE HERE\n",
    "model.most_similar(\"chevalier\")"
   ]
  },
  {
   "cell_type": "markdown",
   "metadata": {},
   "source": [
    "#### Semantic arithmetic\n",
    "\n",
    "One of the most original properties of Word2Vec embeddings is that the semantic relationships between vectors can be modelled by arithmetic operations. Given vectors representing the words `king`, `man` and `woman`, it is possible to compute the vector `v` as :  \n",
    "\n",
    "`v = vector(king)-vector(man)+vector(woman)`\n",
    "\n",
    "This operation corresponds to the following semantic relationship: *The king is to the man what the queen is to the woman*, which translates into the following arithmetic: *the concept of king, minus the concept of man plus the concept of woman gives the concept of queen*.\n",
    "\n",
    "In fact, if we look in the embedding for the word whose closest vector is `v`, we find `reine`.\n",
    "\n",
    "#### Question: \n",
    ">* using the function [most_similar](https://radimrehurek.com/gensim/models/keyedvectors.html#gensim.models.keyedvectors.KeyedVectors.most_similar) specifying the arguments `positive` for the vectors to be added and `negative` for the vectors to be subtracted, check the relationship *the concept of king, minus the concept of man plus the concept of woman gives the concept of queen*.\n",
    ">* Using the same method, find XXX in the following semantic relations\n",
    ">   * Paris is to France what XXX is to Japan.\n",
    ">   * Chevalier is to France what XXX is to Japan."
   ]
  },
  {
   "cell_type": "code",
   "execution_count": 14,
   "metadata": {},
   "outputs": [
    {
     "name": "stderr",
     "output_type": "stream",
     "text": [
      "01:50:26 INFO:Creating /Users/suzie/gensim-data\n"
     ]
    },
    {
     "name": "stdout",
     "output_type": "stream",
     "text": [
      "[==================================================] 100.0% 1662.8/1662.8MB downloaded\n"
     ]
    },
    {
     "name": "stderr",
     "output_type": "stream",
     "text": [
      "01:53:38 INFO:word2vec-google-news-300 downloaded\n",
      "01:53:38 INFO:loading projection weights from /Users/suzie/gensim-data/word2vec-google-news-300/word2vec-google-news-300.gz\n",
      "01:53:54 INFO:KeyedVectors lifecycle event {'msg': 'loaded (3000000, 300) matrix of type float32 from /Users/suzie/gensim-data/word2vec-google-news-300/word2vec-google-news-300.gz', 'binary': True, 'encoding': 'utf8', 'datetime': '2025-02-21T13:53:54.481545', 'gensim': '4.3.3', 'python': '3.10.12 (main, Dec 22 2024, 15:24:48) [Clang 15.0.0 (clang-1500.1.0.2.5)]', 'platform': 'macOS-14.2.1-arm64-arm-64bit', 'event': 'load_word2vec_format'}\n"
     ]
    },
    {
     "name": "stdout",
     "output_type": "stream",
     "text": [
      "Result for king - man + woman: [('queen', 0.7118192911148071), ('monarch', 0.6189674735069275), ('princess', 0.5902431011199951), ('crown_prince', 0.5499460697174072), ('prince', 0.5377321243286133), ('kings', 0.5236844420433044), ('Queen_Consort', 0.5235945582389832), ('queens', 0.5181134343147278), ('sultan', 0.5098593235015869), ('monarchy', 0.5087411403656006)]\n",
      "Paris is to France what XXX is to Japan: [('Tokyo', 0.8142861723899841), ('Toyko', 0.6596698760986328), ('Osaka', 0.6350962519645691), ('Nagoya', 0.6258591413497925), ('Seoul', 0.6054927110671997), ('Japanese', 0.5919331908226013), ('Yokohama', 0.5900902152061462), ('Osaka_Japan', 0.5859751105308533), ('Takamatsu', 0.5791837573051453), ('Fukuoka', 0.5664029121398926)]\n",
      "Chevalier is to France what XXX is to Japan: [('Tanaka', 0.559235692024231), ('Okamoto', 0.5515652298927307), ('Yamada', 0.5467891693115234), ('Yamashita', 0.5367355942726135), ('Ishii', 0.5341945290565491), ('Okumura', 0.5329869985580444), ('Hirano', 0.5272975564002991), ('Ogawa', 0.5230095982551575), ('Matsukawa', 0.5218580961227417), ('Mochizuki', 0.5216046571731567)]\n"
     ]
    }
   ],
   "source": [
    "import gensim.downloader as api\n",
    "from gensim.models import KeyedVectors\n",
    "\n",
    "# Load the Google News model using gensim's downloader\n",
    "model = api.load(\"word2vec-google-news-300\")  # This automatically downloads the model if needed\n",
    "\n",
    "# 1. Verify the classic analogy: king - man + woman = queen\n",
    "result_king = model.most_similar(positive=['king', 'woman'], negative=['man'])\n",
    "print(\"Result for king - man + woman:\", result_king)\n",
    "\n",
    "# 2. Find the word for the analogy: Paris is to France what XXX is to Japan.\n",
    "result_paris = model.most_similar(positive=['Paris', 'Japan'], negative=['France'])\n",
    "print(\"Paris is to France what XXX is to Japan:\", result_paris)\n",
    "\n",
    "# 3. Find the word for the analogy: Chevalier is to France what XXX is to Japan.\n",
    "result_chevalier = model.most_similar(positive=['Chevalier', 'Japan'], negative=['France'])\n",
    "print(\"Chevalier is to France what XXX is to Japan:\", result_chevalier)\n"
   ]
  },
  {
   "cell_type": "markdown",
   "metadata": {},
   "source": [
    "## Contextual embeddings with BERT \n",
    "\n",
    "BERT was one of the first freely available Transformer language models, trained on large corpora. Many other models are available on HuggingFace.\n",
    "\n",
    "As BERT is a contextual model, it is necessary to have it predict whole sentences in order to study the word embeddings it produces. In this section, we will compare the embeddings obtained for polysemous words according to the sentence in which they are used.\n",
    "\n",
    "In English, *plant* has two meanings: plant and vegetable. With a non-contextual embedding, such as Glove or Colobert, these two meanings of the word plus are associated with an identical embedding. With BERT, we'll see that the same word can have several embeddings depending on the context.\n",
    "\n",
    "First, load the BERT model and tokenizer from HuggingFace : "
   ]
  },
  {
   "cell_type": "code",
   "execution_count": 20,
   "metadata": {},
   "outputs": [
    {
     "data": {
      "text/plain": [
       "BertModel(\n",
       "  (embeddings): BertEmbeddings(\n",
       "    (word_embeddings): Embedding(30522, 768, padding_idx=0)\n",
       "    (position_embeddings): Embedding(512, 768)\n",
       "    (token_type_embeddings): Embedding(2, 768)\n",
       "    (LayerNorm): LayerNorm((768,), eps=1e-12, elementwise_affine=True)\n",
       "    (dropout): Dropout(p=0.1, inplace=False)\n",
       "  )\n",
       "  (encoder): BertEncoder(\n",
       "    (layer): ModuleList(\n",
       "      (0-11): 12 x BertLayer(\n",
       "        (attention): BertAttention(\n",
       "          (self): BertSdpaSelfAttention(\n",
       "            (query): Linear(in_features=768, out_features=768, bias=True)\n",
       "            (key): Linear(in_features=768, out_features=768, bias=True)\n",
       "            (value): Linear(in_features=768, out_features=768, bias=True)\n",
       "            (dropout): Dropout(p=0.1, inplace=False)\n",
       "          )\n",
       "          (output): BertSelfOutput(\n",
       "            (dense): Linear(in_features=768, out_features=768, bias=True)\n",
       "            (LayerNorm): LayerNorm((768,), eps=1e-12, elementwise_affine=True)\n",
       "            (dropout): Dropout(p=0.1, inplace=False)\n",
       "          )\n",
       "        )\n",
       "        (intermediate): BertIntermediate(\n",
       "          (dense): Linear(in_features=768, out_features=3072, bias=True)\n",
       "          (intermediate_act_fn): GELUActivation()\n",
       "        )\n",
       "        (output): BertOutput(\n",
       "          (dense): Linear(in_features=3072, out_features=768, bias=True)\n",
       "          (LayerNorm): LayerNorm((768,), eps=1e-12, elementwise_affine=True)\n",
       "          (dropout): Dropout(p=0.1, inplace=False)\n",
       "        )\n",
       "      )\n",
       "    )\n",
       "  )\n",
       "  (pooler): BertPooler(\n",
       "    (dense): Linear(in_features=768, out_features=768, bias=True)\n",
       "    (activation): Tanh()\n",
       "  )\n",
       ")"
      ]
     },
     "execution_count": 20,
     "metadata": {},
     "output_type": "execute_result"
    }
   ],
   "source": [
    "import torch\n",
    "from transformers import BertTokenizer, BertModel\n",
    "tokenizer = BertTokenizer.from_pretrained('bert-base-uncased')\n",
    "# Load pre-trained model \n",
    "model = BertModel.from_pretrained('bert-base-uncased',\n",
    "                                  output_hidden_states = True, # to access the hidden states\n",
    "                                  )\n",
    "# set the model to \"evaluation\" mode\n",
    "model.eval()"
   ]
  },
  {
   "cell_type": "markdown",
   "metadata": {},
   "source": [
    "### Tokenizer\n",
    "\n",
    "Language models are trained with a specific breakdown of sentences into tokens. These tokens can be words or parts of words. It is necessary to use the tokenizer corresponding to each model.\n",
    "\n",
    "tokenizer.vocab.keys() gives the list of all the tokens known for the language model. \n",
    "\n",
    "#### Question\n",
    ">* How many different tokens are known to the BERT tokenizer?\n",
    ">* Display a hundred tokens at random. What do you find?"
   ]
  },
  {
   "cell_type": "code",
   "execution_count": 18,
   "metadata": {},
   "outputs": [
    {
     "name": "stdout",
     "output_type": "stream",
     "text": [
      "Number of tokens in BERT vocabulary: 30522\n",
      "Random sample of 100 tokens:\n",
      "['loaded', 'vidhan', '囗', 'killer', 'pointe', '##kic', 'ambient', '1777', '##cript', 'cylinders', 'revenues', 'tolerated', 'heartbeat', '##oya', '##mora', 'এ', 'hadley', 'narrowly', 'farrell', 'executive', 'troop', 'concession', 'stalk', '##₅', '##ison', 'unchanged', 'defective', 'earnest', 'knox', 'quad', 'writing', '##yne', '##islav', 'fascist', 'victory', 'pac', 'succeeds', '##gam', '##bm', 'synthetic', '1951', '##mos', 'curt', 'anglican', 'accompanying', 'abilities', 'expanse', '##ulous', '##bius', '##sus', 'prussia', '樹', 'smaller', '##lham', 'classify', 'reached', 'leaped', 'lifestyle', 'pod', '##rzy', 'relativity', 'contributing', 'rubin', 'doncaster', '##ful', 'synthesizer', 'epilogue', '[unused157]', 'david', '##ak', '##tori', 'irish', 'serbian', '1966', 'osborn', 'guerrero', 'dunkirk', 'affairs', '[unused18]', 'pink', '490', 'baths', '##ures', 'belt', 'fifteen', '##เ', 'apartment', 'zach', 'longer', 'description', 'analysts', 'mid', 'haul', 'jimmy', 'same', 'garrett', '950', 'penultimate', 'brittany', '##ooped']\n"
     ]
    }
   ],
   "source": [
    "import random\n",
    "# Get the list of tokens from the vocabulary\n",
    "tokens = list(tokenizer.vocab.keys())\n",
    "num_tokens = len(tokens)\n",
    "print(\"Number of tokens in BERT vocabulary:\", num_tokens)\n",
    "\n",
    "# Display 100 tokens at random\n",
    "random_tokens = random.sample(tokens, 100)\n",
    "print(\"Random sample of 100 tokens:\")\n",
    "print(random_tokens)"
   ]
  },
  {
   "cell_type": "markdown",
   "metadata": {},
   "source": [
    "The tokenizer splits sentences and transforms the elements (words or sub-words) into clues. \n",
    "\n",
    "BERT can process several sentences, but you need to tell it how the sentences (segments) have been split, with an index: 0 for the first sentence, 1 for the second. \n",
    "\n",
    "Two specific tokens must also be added: \n",
    "* [CLS], a specific token used for sentence classification\n",
    "* [SEP], the end of sentence token.\n",
    "\n",
    "#### Question\n",
    ">* Apply the bert_tokenize function to the 3 phases and keep the 3 vectors (index, token, segment).\n",
    ">* Display this information for each of the sentences and check that the word *plant* has the same token index in the two sentences in which it appears."
   ]
  },
  {
   "cell_type": "code",
   "execution_count": 19,
   "metadata": {},
   "outputs": [
    {
     "name": "stdout",
     "output_type": "stream",
     "text": [
      "Sentence 1:\n",
      "Tokens:  ['[CLS]', 'the', 'plant', 'has', 'reached', 'its', 'maximal', 'level', 'of', 'production', '.', '[SEP]']\n",
      "Indices: [101, 1996, 3269, 2038, 2584, 2049, 29160, 2504, 1997, 2537, 1012, 102]\n",
      "Segments: [1, 1, 1, 1, 1, 1, 1, 1, 1, 1, 1, 1]\n",
      "\n",
      "Sentence 2:\n",
      "Tokens:  ['[CLS]', 'the', 'cars', 'are', 'assembled', 'inside', 'the', 'factory', '.', '[SEP]']\n",
      "Indices: [101, 1996, 3765, 2024, 9240, 2503, 1996, 4713, 1012, 102]\n",
      "Segments: [1, 1, 1, 1, 1, 1, 1, 1, 1, 1]\n",
      "\n",
      "Sentence 3:\n",
      "Tokens:  ['[CLS]', 'a', 'plant', 'needs', 'sunlight', 'and', 'water', 'to', 'grow', 'well', '.', '[SEP]']\n",
      "Indices: [101, 1037, 3269, 3791, 9325, 1998, 2300, 2000, 4982, 2092, 1012, 102]\n",
      "Segments: [1, 1, 1, 1, 1, 1, 1, 1, 1, 1, 1, 1]\n",
      "\n",
      "\n",
      "Positions of 'plant' in Sentence 1 tokens: [2]\n",
      "Positions of 'plant' in Sentence 3 tokens: [2]\n",
      "Vocabulary index for 'plant': 3269\n",
      "Sentence 1 - Token index for 'plant' at position 2: 3269\n",
      "Sentence 3 - Token index for 'plant' at position 2: 3269\n"
     ]
    }
   ],
   "source": [
    "snt1 = \"The plant has reached its maximal level of production.\"\n",
    "snt2 = \"The cars are assembled inside the factory.\"\n",
    "snt3 = \"A plant needs sunlight and water to grow well.\"\n",
    "\n",
    "\n",
    "def bert_tokenize(snt):\n",
    "    \"\"\" Apply the BERT tokenizer to a list of words representing a sentence\n",
    "        and return 3 lists: \n",
    "        - list of token indx\n",
    "        - list of token for debugging, not used by the BERT model\n",
    "        - list of sentence index\n",
    "        \"\"\"\n",
    "    # Add the special tokens.\n",
    "    tagged_snt = \"[CLS] \" + snt + \" [SEP]\" \n",
    "    # Tokenize\n",
    "    tokenized_snt = tokenizer.tokenize(tagged_snt)\n",
    "    # convert tokens to indices\n",
    "    indexed_snt = tokenizer.convert_tokens_to_ids(tokenized_snt)\n",
    "    # mark the words in sentence.\n",
    "    segments_ids = [1] * len(tokenized_snt)\n",
    "\n",
    "    return (indexed_snt, tokenized_snt, segments_ids)\n",
    "\n",
    "# Tokenize the sentences.\n",
    "indices1, tokens1, segments1 = bert_tokenize(snt1)\n",
    "indices2, tokens2, segments2 = bert_tokenize(snt2)\n",
    "indices3, tokens3, segments3 = bert_tokenize(snt3)\n",
    "\n",
    "# Display the tokenization details for each sentence.\n",
    "print(\"Sentence 1:\")\n",
    "print(\"Tokens: \", tokens1)\n",
    "print(\"Indices:\", indices1)\n",
    "print(\"Segments:\", segments1)\n",
    "print(\"\\nSentence 2:\")\n",
    "print(\"Tokens: \", tokens2)\n",
    "print(\"Indices:\", indices2)\n",
    "print(\"Segments:\", segments2)\n",
    "print(\"\\nSentence 3:\")\n",
    "print(\"Tokens: \", tokens3)\n",
    "print(\"Indices:\", indices3)\n",
    "print(\"Segments:\", segments3)\n",
    "print(\"\\n\")\n",
    "\n",
    "# Locate the token \"plant\" in sentence 1 and sentence 3.\n",
    "positions_snt1 = [i for i, token in enumerate(tokens1) if token == \"plant\"]\n",
    "positions_snt3 = [i for i, token in enumerate(tokens3) if token == \"plant\"]\n",
    "\n",
    "print(\"Positions of 'plant' in Sentence 1 tokens:\", positions_snt1)\n",
    "print(\"Positions of 'plant' in Sentence 3 tokens:\", positions_snt3)\n",
    "\n",
    "# Get the vocabulary index for 'plant' using the tokenizer.\n",
    "vocab_index_plant = tokenizer.convert_tokens_to_ids(\"plant\")\n",
    "print(\"Vocabulary index for 'plant':\", vocab_index_plant)\n",
    "\n",
    "# Check that the token indices at these positions match the vocabulary index.\n",
    "for pos in positions_snt1:\n",
    "    print(f\"Sentence 1 - Token index for 'plant' at position {pos}: {indices1[pos]}\")\n",
    "for pos in positions_snt3:\n",
    "    print(f\"Sentence 3 - Token index for 'plant' at position {pos}: {indices3[pos]}\")\n",
    "\n"
   ]
  },
  {
   "cell_type": "markdown",
   "metadata": {},
   "source": [
    "## Inference\n",
    "\n",
    "To calculate embeddings, we need to make a prediction using the BERT model on a complete sentence. The *predict_hidden* function converts the token and segment index lists into a pytorch tensor and applies the model. \n",
    "\n",
    "The model used is a 12-layer model. We will use the last hidden layer of the model as an embedding to represent the words. Other solutions are possible, such as concatenation or averaging of several layers.\n",
    "\n",
    "\n",
    "#### Question\n",
    ">* Apply the model to each of the 3 sentences and store the resulting embeddings (tensors).\n",
    ">* Display the dimension of the resulting tensors. What is the dimension of the embedding vector for each word?"
   ]
  },
  {
   "cell_type": "code",
   "execution_count": 26,
   "metadata": {},
   "outputs": [
    {
     "name": "stdout",
     "output_type": "stream",
     "text": [
      "Embedding dimensions for Sentence 1: torch.Size([12, 768])\n",
      "Embedding dimensions for Sentence 2: torch.Size([10, 768])\n",
      "Embedding dimensions for Sentence 3: torch.Size([12, 768])\n"
     ]
    }
   ],
   "source": [
    "\n",
    "def predict_hidden(indexed_snt, segments_ids):\n",
    "    \"\"\"Apply the BERT model to the input token indices and segment indices\n",
    "        and return the last hidden layer\n",
    "    \"\"\"\n",
    "    with torch.no_grad():\n",
    "        # Convert inputs to PyTorch tensors\n",
    "        tokens_tensor = torch.tensor([indexed_snt])\n",
    "        segments_tensors = torch.tensor([segments_ids])\n",
    "        outputs = model(tokens_tensor, segments_tensors)\n",
    "        hidden_states = outputs[2]\n",
    "        one_hidden_layer = hidden_states[12][0]\n",
    "        \n",
    "    return one_hidden_layer\n",
    "\n",
    "# Apply the model to each sentence to get the embeddings.\n",
    "embedding1 = predict_hidden(indices1, segments1)\n",
    "embedding2 = predict_hidden(indices2, segments2)\n",
    "embedding3 = predict_hidden(indices3, segments3)\n",
    "\n",
    "# Display the dimension of the resulting tensors.\n",
    "# Each word (or token) is represented by a 768-dimensional embedding vector.\n",
    "# For example, if Sentence 1 has 12 tokens, embedding1.shape will be (12, 768).\n",
    "print(\"Embedding dimensions for Sentence 1:\", embedding1.shape)\n",
    "print(\"Embedding dimensions for Sentence 2:\", embedding2.shape)\n",
    "print(\"Embedding dimensions for Sentence 3:\", embedding3.shape)"
   ]
  },
  {
   "cell_type": "markdown",
   "metadata": {},
   "source": [
    "The hidden layer returned by the *predict_hidden* function is a tensor containing a context vector representing each token in the input sentence. We can use this vector to represent the meaning of this word as a function of its context. We're going to compare the representation of the polysemous word *plant* as a function of its context.\n",
    "\n",
    "#### Question\n",
    ">* Using the [cosine distance](https://docs.scipy.org/doc/scipy/reference/generated/scipy.spatial.distance.cosine.html), calculate the following distances:\n",
    "> * distance between *plant* in sentence 1 (plant-factory) and *plant* in sentence 3 (plant-vegetal)\n",
    "> * distance between *plant* in sentence 1 (plant-factory) and *factory* in sentence 2 (plant-vegetal) \n",
    "> * distance between *plant* in sentence 1 (plant-factory) and *production* in sentence 2 \n",
    "> distance between *plant* in sentence 3 (plant-vegetal) and *production* in sentence 2 \n",
    "> How can we interpret these distances?"
   ]
  },
  {
   "cell_type": "code",
   "execution_count": 27,
   "metadata": {},
   "outputs": [
    {
     "name": "stdout",
     "output_type": "stream",
     "text": [
      "Cosine distance between 'plant' (Sentence 1) and 'plant' (Sentence 3): 0.49866298063591274\n",
      "Cosine distance between 'plant' (Sentence 1) and 'factory' (Sentence 2): 0.31225686446735756\n",
      "Cosine distance between 'plant' (Sentence 1) and 'production' (Sentence 1): 0.24017340781452223\n",
      "Cosine distance between 'plant' (Sentence 3) and 'production' (Sentence 1): 0.6200194243670669\n"
     ]
    }
   ],
   "source": [
    "from scipy.spatial.distance import cosine\n",
    "\n",
    "# Identify token positions.\n",
    "plant_pos_snt1 = positions_snt1[0]       # \"plant\" in Sentence 1 (industrial meaning)\n",
    "plant_pos_snt3 = positions_snt3[0]       # \"plant\" in Sentence 3 (vegetal meaning)\n",
    "factory_pos_snt2 = [i for i, token in enumerate(tokens2) if token == \"factory\"][0]\n",
    "production_pos_snt1 = [i for i, token in enumerate(tokens1) if token == \"production\"][0]\n",
    "\n",
    "# Calculate cosine distances.\n",
    "# Distance between \"plant\" in Sentence 1 and \"plant\" in Sentence 3.\n",
    "distance_plant1_plant3 = cosine(embedding1[plant_pos_snt1].numpy(), embedding3[plant_pos_snt3].numpy())\n",
    "\n",
    "# Distance between \"plant\" in Sentence 1 and \"factory\" in Sentence 2.\n",
    "distance_plant1_factory = cosine(embedding1[plant_pos_snt1].numpy(), embedding2[factory_pos_snt2].numpy())\n",
    "\n",
    "# Distance between \"plant\" in Sentence 1 and \"production\" in Sentence 1.\n",
    "distance_plant1_production = cosine(embedding1[plant_pos_snt1].numpy(), embedding1[production_pos_snt1].numpy())\n",
    "\n",
    "# Distance between \"plant\" in Sentence 3 and \"production\" in Sentence 1.\n",
    "distance_plant3_production = cosine(embedding3[plant_pos_snt3].numpy(), embedding1[production_pos_snt1].numpy())\n",
    "\n",
    "# Display the computed distances.\n",
    "print(\"Cosine distance between 'plant' (Sentence 1) and 'plant' (Sentence 3):\", distance_plant1_plant3)\n",
    "print(\"Cosine distance between 'plant' (Sentence 1) and 'factory' (Sentence 2):\", distance_plant1_factory)\n",
    "print(\"Cosine distance between 'plant' (Sentence 1) and 'production' (Sentence 1):\", distance_plant1_production)\n",
    "print(\"Cosine distance between 'plant' (Sentence 3) and 'production' (Sentence 1):\", distance_plant3_production)\n"
   ]
  },
  {
   "cell_type": "markdown",
   "metadata": {},
   "source": [
    "Interpretation:\n",
    "Lower cosine distances indicate higher similarity between the context-dependent embeddings.\n",
    "For instance, if the distance between \"plant\" (Sentence 1) and \"production\" is low,\n",
    "it suggests that the industrial sense of \"plant\" is semantically close to \"production\".\n",
    "Conversely, a higher distance between \"plant\" (industrial) and \"plant\" (vegetal) would indicate a divergence in meaning based on context."
   ]
  }
 ],
 "metadata": {
  "kernelspec": {
   "display_name": "venv",
   "language": "python",
   "name": "python3"
  },
  "language_info": {
   "codemirror_mode": {
    "name": "ipython",
    "version": 3
   },
   "file_extension": ".py",
   "mimetype": "text/x-python",
   "name": "python",
   "nbconvert_exporter": "python",
   "pygments_lexer": "ipython3",
   "version": "3.10.12"
  }
 },
 "nbformat": 4,
 "nbformat_minor": 2
}
